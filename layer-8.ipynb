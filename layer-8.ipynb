{
 "cells": [
  {
   "cell_type": "markdown",
   "metadata": {},
   "source": [
    "# ML Project - Layer 8"
   ]
  },
  {
   "cell_type": "code",
   "execution_count": 1,
   "metadata": {},
   "outputs": [],
   "source": [
    "datasets_path = \"./speech-based-classification-layer-8/\""
   ]
  },
  {
   "cell_type": "code",
   "execution_count": 2,
   "metadata": {},
   "outputs": [],
   "source": [
    "import numpy as np\n",
    "import pandas as pd\n",
    "import matplotlib.pyplot as plt\n",
    "import joblib\n",
    "\n",
    "from sklearn.pipeline import Pipeline\n",
    "from sklearn.preprocessing import StandardScaler\n",
    "from sklearn.decomposition import PCA\n",
    "\n",
    "from sklearn.neighbors import KNeighborsClassifier\n",
    "from sklearn.svm import SVC\n",
    "from sklearn.ensemble import RandomForestClassifier\n",
    "\n",
    "from sklearn.metrics import confusion_matrix, accuracy_score\n",
    "from sklearn.model_selection import GridSearchCV\n",
    "\n",
    "from imblearn.over_sampling import RandomOverSampler\n",
    "from imblearn.under_sampling import RandomUnderSampler\n"
   ]
  },
  {
   "cell_type": "code",
   "execution_count": 3,
   "metadata": {},
   "outputs": [
    {
     "data": {
      "text/html": [
       "<div>\n",
       "<style scoped>\n",
       "    .dataframe tbody tr th:only-of-type {\n",
       "        vertical-align: middle;\n",
       "    }\n",
       "\n",
       "    .dataframe tbody tr th {\n",
       "        vertical-align: top;\n",
       "    }\n",
       "\n",
       "    .dataframe thead th {\n",
       "        text-align: right;\n",
       "    }\n",
       "</style>\n",
       "<table border=\"1\" class=\"dataframe\">\n",
       "  <thead>\n",
       "    <tr style=\"text-align: right;\">\n",
       "      <th></th>\n",
       "      <th>feature_1</th>\n",
       "      <th>feature_2</th>\n",
       "      <th>feature_3</th>\n",
       "      <th>feature_4</th>\n",
       "      <th>feature_5</th>\n",
       "      <th>feature_6</th>\n",
       "      <th>feature_7</th>\n",
       "      <th>feature_8</th>\n",
       "      <th>feature_9</th>\n",
       "      <th>feature_10</th>\n",
       "      <th>...</th>\n",
       "      <th>feature_763</th>\n",
       "      <th>feature_764</th>\n",
       "      <th>feature_765</th>\n",
       "      <th>feature_766</th>\n",
       "      <th>feature_767</th>\n",
       "      <th>feature_768</th>\n",
       "      <th>label_1</th>\n",
       "      <th>label_2</th>\n",
       "      <th>label_3</th>\n",
       "      <th>label_4</th>\n",
       "    </tr>\n",
       "  </thead>\n",
       "  <tbody>\n",
       "    <tr>\n",
       "      <th>0</th>\n",
       "      <td>0.071810</td>\n",
       "      <td>0.068413</td>\n",
       "      <td>-0.022749</td>\n",
       "      <td>0.086143</td>\n",
       "      <td>0.026361</td>\n",
       "      <td>-0.028817</td>\n",
       "      <td>0.199237</td>\n",
       "      <td>-0.287368</td>\n",
       "      <td>-0.059560</td>\n",
       "      <td>-0.043694</td>\n",
       "      <td>...</td>\n",
       "      <td>0.004646</td>\n",
       "      <td>0.123011</td>\n",
       "      <td>0.043040</td>\n",
       "      <td>-0.042152</td>\n",
       "      <td>0.026225</td>\n",
       "      <td>0.072623</td>\n",
       "      <td>45</td>\n",
       "      <td>NaN</td>\n",
       "      <td>1</td>\n",
       "      <td>6</td>\n",
       "    </tr>\n",
       "    <tr>\n",
       "      <th>1</th>\n",
       "      <td>0.030930</td>\n",
       "      <td>0.024088</td>\n",
       "      <td>0.057811</td>\n",
       "      <td>-0.230877</td>\n",
       "      <td>-0.146281</td>\n",
       "      <td>0.102807</td>\n",
       "      <td>0.128767</td>\n",
       "      <td>-0.146269</td>\n",
       "      <td>0.053893</td>\n",
       "      <td>0.055378</td>\n",
       "      <td>...</td>\n",
       "      <td>0.077742</td>\n",
       "      <td>0.081691</td>\n",
       "      <td>-0.004778</td>\n",
       "      <td>0.171727</td>\n",
       "      <td>-0.026027</td>\n",
       "      <td>0.171089</td>\n",
       "      <td>45</td>\n",
       "      <td>NaN</td>\n",
       "      <td>1</td>\n",
       "      <td>6</td>\n",
       "    </tr>\n",
       "    <tr>\n",
       "      <th>2</th>\n",
       "      <td>-0.044019</td>\n",
       "      <td>-0.004626</td>\n",
       "      <td>-0.029383</td>\n",
       "      <td>-0.165376</td>\n",
       "      <td>-0.026611</td>\n",
       "      <td>-0.028142</td>\n",
       "      <td>-0.009649</td>\n",
       "      <td>-0.082088</td>\n",
       "      <td>0.018933</td>\n",
       "      <td>0.006830</td>\n",
       "      <td>...</td>\n",
       "      <td>0.076249</td>\n",
       "      <td>-0.046272</td>\n",
       "      <td>0.027831</td>\n",
       "      <td>0.028096</td>\n",
       "      <td>0.030994</td>\n",
       "      <td>0.009709</td>\n",
       "      <td>45</td>\n",
       "      <td>NaN</td>\n",
       "      <td>1</td>\n",
       "      <td>6</td>\n",
       "    </tr>\n",
       "    <tr>\n",
       "      <th>3</th>\n",
       "      <td>-0.086241</td>\n",
       "      <td>0.129585</td>\n",
       "      <td>-0.013893</td>\n",
       "      <td>0.089885</td>\n",
       "      <td>-0.100300</td>\n",
       "      <td>-0.035184</td>\n",
       "      <td>0.240980</td>\n",
       "      <td>-0.128362</td>\n",
       "      <td>-0.072328</td>\n",
       "      <td>-0.019385</td>\n",
       "      <td>...</td>\n",
       "      <td>0.006934</td>\n",
       "      <td>-0.049213</td>\n",
       "      <td>0.078852</td>\n",
       "      <td>0.088323</td>\n",
       "      <td>0.168815</td>\n",
       "      <td>-0.049188</td>\n",
       "      <td>45</td>\n",
       "      <td>NaN</td>\n",
       "      <td>1</td>\n",
       "      <td>6</td>\n",
       "    </tr>\n",
       "    <tr>\n",
       "      <th>4</th>\n",
       "      <td>0.126416</td>\n",
       "      <td>0.088338</td>\n",
       "      <td>0.088307</td>\n",
       "      <td>0.020371</td>\n",
       "      <td>0.174417</td>\n",
       "      <td>-0.030560</td>\n",
       "      <td>0.181163</td>\n",
       "      <td>-0.009382</td>\n",
       "      <td>0.085396</td>\n",
       "      <td>0.015823</td>\n",
       "      <td>...</td>\n",
       "      <td>-0.028883</td>\n",
       "      <td>0.110844</td>\n",
       "      <td>-0.041875</td>\n",
       "      <td>0.025686</td>\n",
       "      <td>0.003534</td>\n",
       "      <td>-0.104945</td>\n",
       "      <td>45</td>\n",
       "      <td>NaN</td>\n",
       "      <td>1</td>\n",
       "      <td>6</td>\n",
       "    </tr>\n",
       "  </tbody>\n",
       "</table>\n",
       "<p>5 rows × 772 columns</p>\n",
       "</div>"
      ],
      "text/plain": [
       "   feature_1  feature_2  feature_3  feature_4  feature_5  feature_6  \\\n",
       "0   0.071810   0.068413  -0.022749   0.086143   0.026361  -0.028817   \n",
       "1   0.030930   0.024088   0.057811  -0.230877  -0.146281   0.102807   \n",
       "2  -0.044019  -0.004626  -0.029383  -0.165376  -0.026611  -0.028142   \n",
       "3  -0.086241   0.129585  -0.013893   0.089885  -0.100300  -0.035184   \n",
       "4   0.126416   0.088338   0.088307   0.020371   0.174417  -0.030560   \n",
       "\n",
       "   feature_7  feature_8  feature_9  feature_10  ...  feature_763  feature_764  \\\n",
       "0   0.199237  -0.287368  -0.059560   -0.043694  ...     0.004646     0.123011   \n",
       "1   0.128767  -0.146269   0.053893    0.055378  ...     0.077742     0.081691   \n",
       "2  -0.009649  -0.082088   0.018933    0.006830  ...     0.076249    -0.046272   \n",
       "3   0.240980  -0.128362  -0.072328   -0.019385  ...     0.006934    -0.049213   \n",
       "4   0.181163  -0.009382   0.085396    0.015823  ...    -0.028883     0.110844   \n",
       "\n",
       "   feature_765  feature_766  feature_767  feature_768  label_1  label_2  \\\n",
       "0     0.043040    -0.042152     0.026225     0.072623       45      NaN   \n",
       "1    -0.004778     0.171727    -0.026027     0.171089       45      NaN   \n",
       "2     0.027831     0.028096     0.030994     0.009709       45      NaN   \n",
       "3     0.078852     0.088323     0.168815    -0.049188       45      NaN   \n",
       "4    -0.041875     0.025686     0.003534    -0.104945       45      NaN   \n",
       "\n",
       "   label_3  label_4  \n",
       "0        1        6  \n",
       "1        1        6  \n",
       "2        1        6  \n",
       "3        1        6  \n",
       "4        1        6  \n",
       "\n",
       "[5 rows x 772 columns]"
      ]
     },
     "execution_count": 3,
     "metadata": {},
     "output_type": "execute_result"
    }
   ],
   "source": [
    "train_df = pd.read_csv(datasets_path + \"train.csv\")\n",
    "valid_df = pd.read_csv(datasets_path + \"valid.csv\")\n",
    "test_df = pd.read_csv(datasets_path + \"test.csv\")\n",
    "train_df.head()"
   ]
  },
  {
   "cell_type": "markdown",
   "metadata": {},
   "source": [
    "## Dataset Exploration"
   ]
  },
  {
   "cell_type": "code",
   "execution_count": 5,
   "metadata": {},
   "outputs": [
    {
     "name": "stdout",
     "output_type": "stream",
     "text": [
      "(28520, 772)\n",
      "(750, 772)\n"
     ]
    }
   ],
   "source": [
    "print(train_df.shape)\n",
    "print(valid_df.shape)"
   ]
  },
  {
   "cell_type": "markdown",
   "metadata": {},
   "source": [
    "How many null values are there in `label_2`?"
   ]
  },
  {
   "cell_type": "code",
   "execution_count": 8,
   "metadata": {},
   "outputs": [
    {
     "name": "stdout",
     "output_type": "stream",
     "text": [
      "count: 480\n",
      "percentage: 1.683\n"
     ]
    }
   ],
   "source": [
    "# train dataset\n",
    "count = train_df['label_2'].isna().sum()\n",
    "print(\"count:\", count)\n",
    "print(\"percentage: {:.3f}\".format(count / train_df.shape[0] * 100))"
   ]
  },
  {
   "cell_type": "code",
   "execution_count": 10,
   "metadata": {},
   "outputs": [
    {
     "name": "stdout",
     "output_type": "stream",
     "text": [
      "count: 14\n",
      "percentage: 1.867\n"
     ]
    }
   ],
   "source": [
    "# valid dataset\n",
    "count = valid_df['label_2'].isna().sum()\n",
    "print(\"count:\", count)\n",
    "print(\"percentage: {:.3f}\".format(count / valid_df.shape[0] * 100))"
   ]
  },
  {
   "cell_type": "markdown",
   "metadata": {},
   "source": [
    "Are there any null values in any other column?"
   ]
  },
  {
   "cell_type": "code",
   "execution_count": 35,
   "metadata": {},
   "outputs": [
    {
     "name": "stdout",
     "output_type": "stream",
     "text": [
      "False\n"
     ]
    }
   ],
   "source": [
    "null_values_present = train_df.loc[:, ~train_df.columns.isin(['label_2'])].isna().any().any()\n",
    "print(null_values_present)"
   ]
  },
  {
   "cell_type": "markdown",
   "metadata": {},
   "source": [
    "`label_1` (Speaker ID) column distribuiton"
   ]
  },
  {
   "cell_type": "code",
   "execution_count": 11,
   "metadata": {},
   "outputs": [
    {
     "data": {
      "text/plain": [
       "<Axes: xlabel='label_1'>"
      ]
     },
     "execution_count": 11,
     "metadata": {},
     "output_type": "execute_result"
    },
    {
     "data": {
      "image/png": "[encoded data removed]",
      "text/plain": [
       "<Figure size 800x600 with 1 Axes>"
      ]
     },
     "metadata": {},
     "output_type": "display_data"
    }
   ],
   "source": [
    "plt.figure(figsize=(8, 6))\n",
    "train_df['label_1'].value_counts().sort_index().plot(kind='bar')"
   ]
  },
  {
   "cell_type": "markdown",
   "metadata": {},
   "source": [
    "`label_2` (Speaker Age) column distribuiton"
   ]
  },
  {
   "cell_type": "code",
   "execution_count": 53,
   "metadata": {},
   "outputs": [
    {
     "data": {
      "text/plain": [
       "<Axes: xlabel='label_2'>"
      ]
     },
     "execution_count": 53,
     "metadata": {},
     "output_type": "execute_result"
    },
    {
     "data": {
      "image/png": "[encoded data removed]",
      "text/plain": [
       "<Figure size 800x600 with 1 Axes>"
      ]
     },
     "metadata": {},
     "output_type": "display_data"
    }
   ],
   "source": [
    "plt.figure(figsize=(8, 6))\n",
    "train_df['label_2'].value_counts().sort_index().plot(kind='bar')"
   ]
  },
  {
   "cell_type": "markdown",
   "metadata": {},
   "source": [
    "`label_3` (Speaker Gender) column distribuiton"
   ]
  },
  {
   "cell_type": "code",
   "execution_count": 14,
   "metadata": {},
   "outputs": [
    {
     "data": {
      "image/png": "[encoded data removed]",
      "text/plain": [
       "<Figure size 800x600 with 1 Axes>"
      ]
     },
     "metadata": {},
     "output_type": "display_data"
    }
   ],
   "source": [
    "plt.figure(figsize=(8, 6))\n",
    "train_df['label_3'].value_counts().sort_index().plot(kind='bar')\n",
    "plt.show()"
   ]
  },
  {
   "cell_type": "markdown",
   "metadata": {},
   "source": [
    "`label_4` (Speaker Accent) column distribuiton"
   ]
  },
  {
   "cell_type": "code",
   "execution_count": 16,
   "metadata": {},
   "outputs": [
    {
     "data": {
      "image/png": "[encoded data removed]",
      "text/plain": [
       "<Figure size 800x600 with 1 Axes>"
      ]
     },
     "metadata": {},
     "output_type": "display_data"
    }
   ],
   "source": [
    "plt.figure(figsize=(8, 6))\n",
    "train_df['label_4'].value_counts().sort_index().plot(kind='bar')\n",
    "plt.show()"
   ]
  },
  {
   "cell_type": "code",
   "execution_count": 8,
   "metadata": {},
   "outputs": [
    {
     "data": {
      "image/png": "[encoded data removed]",
      "text/plain": [
       "<Figure size 800x600 with 1 Axes>"
      ]
     },
     "metadata": {},
     "output_type": "display_data"
    }
   ],
   "source": [
    "# validation dataset\n",
    "plt.figure(figsize=(8, 6))\n",
    "valid_df['label_4'].value_counts().sort_index().plot(kind='bar')\n",
    "plt.show()"
   ]
  },
  {
   "cell_type": "markdown",
   "metadata": {},
   "source": [
    "## Handle Missing Data in `label_2`"
   ]
  },
  {
   "cell_type": "markdown",
   "metadata": {},
   "source": [
    "There are missing data in `label_2`. Let's see the count of data missing rows in `label_2`."
   ]
  },
  {
   "cell_type": "code",
   "execution_count": 4,
   "metadata": {},
   "outputs": [
    {
     "name": "stdout",
     "output_type": "stream",
     "text": [
      "missing count in train: 480\n",
      "missing percentage in trian: 1.683\n",
      "missing count in valid: 14\n",
      "missing percentage in valid: 1.867\n"
     ]
    }
   ],
   "source": [
    "count = train_df['label_2'].isna().sum()\n",
    "print(\"missing count in train:\", count)\n",
    "print(\"missing percentage in trian:\", round(count / train_df.shape[0] * 100, 3))\n",
    "\n",
    "count = valid_df['label_2'].isna().sum()\n",
    "print(\"missing count in valid:\", count)\n",
    "print(\"missing percentage in valid:\", round(count / valid_df.shape[0] * 100, 3))"
   ]
  },
  {
   "cell_type": "markdown",
   "metadata": {},
   "source": [
    "Since the count of data missing rows is relatively small compared to the whole dataset, let's drop those rows from the dataset used for `label_2`."
   ]
  },
  {
   "cell_type": "code",
   "execution_count": 5,
   "metadata": {},
   "outputs": [
    {
     "name": "stdout",
     "output_type": "stream",
     "text": [
      "(28040, 772)\n",
      "(736, 772)\n"
     ]
    }
   ],
   "source": [
    "train_df_label_2_missing_removed = train_df.dropna(subset=['label_2'])\n",
    "valid_df_label_2_missing_removed = valid_df.dropna(subset=['label_2'])\n",
    "\n",
    "print(train_df_label_2_missing_removed.shape)\n",
    "print(valid_df_label_2_missing_removed.shape)"
   ]
  },
  {
   "cell_type": "markdown",
   "metadata": {},
   "source": [
    "## Baseline Models\n",
    "\n",
    "In this section, several models are trained with their default parameters and checked the accuracy to get an idea about how well they perform. The original feature set is used to train the models. The tested models are KNN, SVM and Random Forest."
   ]
  },
  {
   "cell_type": "markdown",
   "metadata": {},
   "source": [
    "The input feature values are scaled using the `StandardScaler`."
   ]
  },
  {
   "cell_type": "code",
   "execution_count": 6,
   "metadata": {},
   "outputs": [],
   "source": [
    "train_df_X = train_df.iloc[:, :-4]\n",
    "# trianing dataset with data missing rows removed considering label_2\n",
    "train_df_X_missing_removed = train_df_label_2_missing_removed.iloc[:, :-4]\n",
    "\n",
    "valid_df_X = valid_df.iloc[:, :-4]\n",
    "# validation dataset with data missing rows removed considering label_2\n",
    "valid_df_X_missing_removed = valid_df_label_2_missing_removed.iloc[:, :-4]\n",
    "\n",
    "scaler = StandardScaler()\n",
    "scaler.fit(train_df_X)\n",
    "train_df_X_standardized = scaler.transform(train_df_X)\n",
    "valid_df_X_standardized = scaler.transform(valid_df_X)\n",
    "\n",
    "scaler2 = StandardScaler()\n",
    "scaler2.fit(train_df_X_missing_removed)\n",
    "train_df_X_missing_removed_standardized = scaler2.transform(train_df_X_missing_removed)\n",
    "valid_df_X_missing_removed_standardized = scaler2.transform(valid_df_X_missing_removed)\n"
   ]
  },
  {
   "cell_type": "markdown",
   "metadata": {},
   "source": [
    "### `label_1` (Speaker ID)"
   ]
  },
  {
   "cell_type": "code",
   "execution_count": 7,
   "metadata": {},
   "outputs": [],
   "source": [
    "train_df_label_1 = train_df[\"label_1\"]\n",
    "valid_df_label_1 = valid_df[\"label_1\"]"
   ]
  },
  {
   "cell_type": "markdown",
   "metadata": {},
   "source": [
    "#### KNN"
   ]
  },
  {
   "cell_type": "code",
   "execution_count": null,
   "metadata": {},
   "outputs": [],
   "source": [
    "model_knn_label_1 = KNeighborsClassifier();\n",
    "model_knn_label_1.fit(train_df_X_standardized, train_df_label_1)"
   ]
  },
  {
   "cell_type": "code",
   "execution_count": null,
   "metadata": {},
   "outputs": [],
   "source": [
    "joblib.dump(model_knn_label_1, \"./models/model_knn_label_1_baseline.joblib\")"
   ]
  },
  {
   "cell_type": "code",
   "execution_count": 19,
   "metadata": {},
   "outputs": [],
   "source": [
    "model_knn_label_1 = joblib.load(\"./models/model_knn_label_1_baseline.joblib\")"
   ]
  },
  {
   "cell_type": "code",
   "execution_count": 20,
   "metadata": {},
   "outputs": [
    {
     "name": "stdout",
     "output_type": "stream",
     "text": [
      "Training set score: 0.9107643758765779\n",
      "Validation set score: 0.8293333333333334\n"
     ]
    }
   ],
   "source": [
    "print(\"Training set score: \" + str(model_knn_label_1.score(train_df_X_standardized, train_df_label_1)))\n",
    "print(\"Validation set score: \" + str(model_knn_label_1.score(valid_df_X_standardized, valid_df_label_1)))"
   ]
  },
  {
   "cell_type": "markdown",
   "metadata": {},
   "source": [
    "#### SVM"
   ]
  },
  {
   "cell_type": "code",
   "execution_count": 17,
   "metadata": {},
   "outputs": [
    {
     "data": {
      "text/html": [
       "<style>#sk-container-id-1 {color: black;}#sk-container-id-1 pre{padding: 0;}#sk-container-id-1 div.sk-toggleable {background-color: white;}#sk-container-id-1 label.sk-toggleable__label {cursor: pointer;display: block;width: 100%;margin-bottom: 0;padding: 0.3em;box-sizing: border-box;text-align: center;}#sk-container-id-1 label.sk-toggleable__label-arrow:before {content: \"▸\";float: left;margin-right: 0.25em;color: #696969;}#sk-container-id-1 label.sk-toggleable__label-arrow:hover:before {color: black;}#sk-container-id-1 div.sk-estimator:hover label.sk-toggleable__label-arrow:before {color: black;}#sk-container-id-1 div.sk-toggleable__content {max-height: 0;max-width: 0;overflow: hidden;text-align: left;background-color: #f0f8ff;}#sk-container-id-1 div.sk-toggleable__content pre {margin: 0.2em;color: black;border-radius: 0.25em;background-color: #f0f8ff;}#sk-container-id-1 input.sk-toggleable__control:checked~div.sk-toggleable__content {max-height: 200px;max-width: 100%;overflow: auto;}#sk-container-id-1 input.sk-toggleable__control:checked~label.sk-toggleable__label-arrow:before {content: \"▾\";}#sk-container-id-1 div.sk-estimator input.sk-toggleable__control:checked~label.sk-toggleable__label {background-color: #d4ebff;}#sk-container-id-1 div.sk-label input.sk-toggleable__control:checked~label.sk-toggleable__label {background-color: #d4ebff;}#sk-container-id-1 input.sk-hidden--visually {border: 0;clip: rect(1px 1px 1px 1px);clip: rect(1px, 1px, 1px, 1px);height: 1px;margin: -1px;overflow: hidden;padding: 0;position: absolute;width: 1px;}#sk-container-id-1 div.sk-estimator {font-family: monospace;background-color: #f0f8ff;border: 1px dotted black;border-radius: 0.25em;box-sizing: border-box;margin-bottom: 0.5em;}#sk-container-id-1 div.sk-estimator:hover {background-color: #d4ebff;}#sk-container-id-1 div.sk-parallel-item::after {content: \"\";width: 100%;border-bottom: 1px solid gray;flex-grow: 1;}#sk-container-id-1 div.sk-label:hover label.sk-toggleable__label {background-color: #d4ebff;}#sk-container-id-1 div.sk-serial::before {content: \"\";position: absolute;border-left: 1px solid gray;box-sizing: border-box;top: 0;bottom: 0;left: 50%;z-index: 0;}#sk-container-id-1 div.sk-serial {display: flex;flex-direction: column;align-items: center;background-color: white;padding-right: 0.2em;padding-left: 0.2em;position: relative;}#sk-container-id-1 div.sk-item {position: relative;z-index: 1;}#sk-container-id-1 div.sk-parallel {display: flex;align-items: stretch;justify-content: center;background-color: white;position: relative;}#sk-container-id-1 div.sk-item::before, #sk-container-id-1 div.sk-parallel-item::before {content: \"\";position: absolute;border-left: 1px solid gray;box-sizing: border-box;top: 0;bottom: 0;left: 50%;z-index: -1;}#sk-container-id-1 div.sk-parallel-item {display: flex;flex-direction: column;z-index: 1;position: relative;background-color: white;}#sk-container-id-1 div.sk-parallel-item:first-child::after {align-self: flex-end;width: 50%;}#sk-container-id-1 div.sk-parallel-item:last-child::after {align-self: flex-start;width: 50%;}#sk-container-id-1 div.sk-parallel-item:only-child::after {width: 0;}#sk-container-id-1 div.sk-dashed-wrapped {border: 1px dashed gray;margin: 0 0.4em 0.5em 0.4em;box-sizing: border-box;padding-bottom: 0.4em;background-color: white;}#sk-container-id-1 div.sk-label label {font-family: monospace;font-weight: bold;display: inline-block;line-height: 1.2em;}#sk-container-id-1 div.sk-label-container {text-align: center;}#sk-container-id-1 div.sk-container {/* jupyter's `normalize.less` sets `[hidden] { display: none; }` but bootstrap.min.css set `[hidden] { display: none !important; }` so we also need the `!important` here to be able to override the default hidden behavior on the sphinx rendered scikit-learn.org. See: https://github.com/scikit-learn/scikit-learn/issues/21755 */display: inline-block !important;position: relative;}#sk-container-id-1 div.sk-text-repr-fallback {display: none;}</style><div id=\"sk-container-id-1\" class=\"sk-top-container\"><div class=\"sk-text-repr-fallback\"><pre>SVC()</pre><b>In a Jupyter environment, please rerun this cell to show the HTML representation or trust the notebook. <br />On GitHub, the HTML representation is unable to render, please try loading this page with nbviewer.org.</b></div><div class=\"sk-container\" hidden><div class=\"sk-item\"><div class=\"sk-estimator sk-toggleable\"><input class=\"sk-toggleable__control sk-hidden--visually\" id=\"sk-estimator-id-1\" type=\"checkbox\" checked><label for=\"sk-estimator-id-1\" class=\"sk-toggleable__label sk-toggleable__label-arrow\">SVC</label><div class=\"sk-toggleable__content\"><pre>SVC()</pre></div></div></div></div></div>"
      ],
      "text/plain": [
       "SVC()"
      ]
     },
     "execution_count": 17,
     "metadata": {},
     "output_type": "execute_result"
    }
   ],
   "source": [
    "model_svm_label_1 = SVC();\n",
    "model_svm_label_1.fit(train_df_X_standardized, train_df_label_1)"
   ]
  },
  {
   "cell_type": "code",
   "execution_count": null,
   "metadata": {},
   "outputs": [],
   "source": [
    "joblib.dump(model_svm_label_1, \"./models/model_svm_label_1_baseline.joblib\")"
   ]
  },
  {
   "cell_type": "code",
   "execution_count": null,
   "metadata": {},
   "outputs": [],
   "source": [
    "model_svm_label_1 = joblib.load(\"./models/model_svm_label_1_baseline.joblib\")"
   ]
  },
  {
   "cell_type": "code",
   "execution_count": 22,
   "metadata": {},
   "outputs": [
    {
     "name": "stdout",
     "output_type": "stream",
     "text": [
      "Training set score: 0.9674263674614306\n",
      "Validation set score: 0.932\n"
     ]
    }
   ],
   "source": [
    "print(\"Training set score: \" + str(model_svm_label_1.score(train_df_X_standardized, train_df_label_1)))\n",
    "print(\"Validation set score: \" + str(model_svm_label_1.score(valid_df_X_standardized, valid_df_label_1)))"
   ]
  },
  {
   "cell_type": "markdown",
   "metadata": {},
   "source": [
    "#### Random Forest"
   ]
  },
  {
   "cell_type": "code",
   "execution_count": null,
   "metadata": {},
   "outputs": [],
   "source": [
    "model_rf_label_1 = RandomForestClassifier();\n",
    "model_rf_label_1.fit(train_df_X_standardized, train_df_label_1)"
   ]
  },
  {
   "cell_type": "code",
   "execution_count": null,
   "metadata": {},
   "outputs": [],
   "source": [
    "joblib.dump(model_rf_label_1, \"./models/model_rf_label_1_baseline.joblib\")"
   ]
  },
  {
   "cell_type": "code",
   "execution_count": null,
   "metadata": {},
   "outputs": [],
   "source": [
    "model_rf_label_1 = joblib.load(\"./models/model_rf_label_1_baseline.joblib\")"
   ]
  },
  {
   "cell_type": "code",
   "execution_count": 30,
   "metadata": {},
   "outputs": [
    {
     "name": "stdout",
     "output_type": "stream",
     "text": [
      "Training set score: 0.9674263674614306\n",
      "Validation set score: 0.932\n"
     ]
    }
   ],
   "source": [
    "print(\"Training set score: \" + str(model_rf_label_1.score(train_df_X_standardized, train_df_label_1)))\n",
    "print(\"Validation set score: \" + str(model_rf_label_1.score(valid_df_X_standardized, valid_df_label_1)))"
   ]
  },
  {
   "cell_type": "markdown",
   "metadata": {},
   "source": [
    "### `label_2` (Speaker Age)"
   ]
  },
  {
   "cell_type": "code",
   "execution_count": 8,
   "metadata": {},
   "outputs": [],
   "source": [
    "train_df_label_2 = train_df_label_2_missing_removed[\"label_2\"]\n",
    "valid_df_label_2 = valid_df_label_2_missing_removed[\"label_2\"]"
   ]
  },
  {
   "cell_type": "markdown",
   "metadata": {},
   "source": [
    "#### KNN"
   ]
  },
  {
   "cell_type": "code",
   "execution_count": null,
   "metadata": {},
   "outputs": [],
   "source": [
    "model_knn_label_2 = KNeighborsClassifier();\n",
    "model_knn_label_2.fit(train_df_X_missing_removed_standardized, train_df_label_2)"
   ]
  },
  {
   "cell_type": "code",
   "execution_count": null,
   "metadata": {},
   "outputs": [],
   "source": [
    "joblib.dump(model_knn_label_2, \"./models/model_knn_label_2_baseline.joblib\")"
   ]
  },
  {
   "cell_type": "code",
   "execution_count": null,
   "metadata": {},
   "outputs": [],
   "source": [
    "model_knn_label_2 = joblib.load(\"./models/model_knn_label_2_baseline.joblib\")"
   ]
  },
  {
   "cell_type": "code",
   "execution_count": 43,
   "metadata": {},
   "outputs": [
    {
     "name": "stdout",
     "output_type": "stream",
     "text": [
      "Training set score: 0.917867332382311\n",
      "Validation set score: 0.8355978260869565\n"
     ]
    }
   ],
   "source": [
    "print(\"Training set score: \" + str(model_knn_label_2.score(train_df_X_missing_removed_standardized, train_df_label_2)))\n",
    "print(\"Validation set score: \" + str(model_knn_label_2.score(valid_df_X_missing_removed_standardized, valid_df_label_2)))"
   ]
  },
  {
   "cell_type": "markdown",
   "metadata": {},
   "source": [
    "#### SVM"
   ]
  },
  {
   "cell_type": "code",
   "execution_count": null,
   "metadata": {},
   "outputs": [],
   "source": [
    "model_svm_label_2 = SVC();\n",
    "model_svm_label_2.fit(train_df_X_missing_removed_standardized, train_df_label_2)"
   ]
  },
  {
   "cell_type": "code",
   "execution_count": null,
   "metadata": {},
   "outputs": [],
   "source": [
    "joblib.dump(model_svm_label_2, \"./models/model_svm_label_2_baseline.joblib\")"
   ]
  },
  {
   "cell_type": "code",
   "execution_count": 25,
   "metadata": {},
   "outputs": [],
   "source": [
    "model_svm_label_2 = joblib.load(\"./models/model_svm_label_2_baseline.joblib\")"
   ]
  },
  {
   "cell_type": "code",
   "execution_count": 48,
   "metadata": {},
   "outputs": [
    {
     "name": "stdout",
     "output_type": "stream",
     "text": [
      "Training set score: 0.948644793152639\n",
      "Validation set score: 0.9008152173913043\n"
     ]
    }
   ],
   "source": [
    "print(\"Training set score: \" + str(model_svm_label_2.score(train_df_X_missing_removed_standardized, train_df_label_2)))\n",
    "print(\"Validation set score: \" + str(model_svm_label_2.score(valid_df_X_missing_removed_standardized, valid_df_label_2)))"
   ]
  },
  {
   "cell_type": "markdown",
   "metadata": {},
   "source": [
    "#### Random Forest"
   ]
  },
  {
   "cell_type": "code",
   "execution_count": null,
   "metadata": {},
   "outputs": [],
   "source": [
    "model_rf_label_2 = RandomForestClassifier();\n",
    "model_rf_label_2.fit(train_df_X_missing_removed_standardized, train_df_label_2)"
   ]
  },
  {
   "cell_type": "code",
   "execution_count": null,
   "metadata": {},
   "outputs": [],
   "source": [
    "joblib.dump(model_rf_label_2, \"./models/model_rf_label_2_baseline.joblib\")"
   ]
  },
  {
   "cell_type": "code",
   "execution_count": 51,
   "metadata": {},
   "outputs": [],
   "source": [
    "model_rf_label_2 = joblib.load(\"./models/model_rf_label_2_baseline.joblib\")"
   ]
  },
  {
   "cell_type": "code",
   "execution_count": 52,
   "metadata": {},
   "outputs": [
    {
     "name": "stdout",
     "output_type": "stream",
     "text": [
      "Training set score: 1.0\n",
      "Validation set score: 0.7676630434782609\n"
     ]
    }
   ],
   "source": [
    "print(\"Training set score: \" + str(model_rf_label_2.score(train_df_X_missing_removed_standardized, train_df_label_2)))\n",
    "print(\"Validation set score: \" + str(model_rf_label_2.score(valid_df_X_missing_removed_standardized, valid_df_label_2)))"
   ]
  },
  {
   "cell_type": "markdown",
   "metadata": {},
   "source": [
    "### `label_3` (Speaker Gender)"
   ]
  },
  {
   "cell_type": "code",
   "execution_count": 9,
   "metadata": {},
   "outputs": [],
   "source": [
    "train_df_label_3 = train_df[\"label_3\"]\n",
    "valid_df_label_3 = valid_df[\"label_3\"]"
   ]
  },
  {
   "cell_type": "markdown",
   "metadata": {},
   "source": [
    "#### KNN"
   ]
  },
  {
   "cell_type": "code",
   "execution_count": null,
   "metadata": {},
   "outputs": [],
   "source": [
    "model_knn_label_3 = KNeighborsClassifier();\n",
    "model_knn_label_3.fit(train_df_X_standardized, train_df_label_3)"
   ]
  },
  {
   "cell_type": "code",
   "execution_count": null,
   "metadata": {},
   "outputs": [],
   "source": [
    "joblib.dump(model_knn_label_3, \"./models/model_knn_label_3_baseline.joblib\")"
   ]
  },
  {
   "cell_type": "code",
   "execution_count": 26,
   "metadata": {},
   "outputs": [],
   "source": [
    "model_knn_label_3 = joblib.load(\"./models/model_knn_label_3_baseline.joblib\")"
   ]
  },
  {
   "cell_type": "code",
   "execution_count": 63,
   "metadata": {},
   "outputs": [
    {
     "name": "stdout",
     "output_type": "stream",
     "text": [
      "Training set score: 0.9879382889200561\n",
      "Validation set score: 0.984\n"
     ]
    }
   ],
   "source": [
    "print(\"Training set score: \" + str(model_knn_label_3.score(train_df_X_standardized, train_df_label_3)))\n",
    "print(\"Validation set score: \" + str(model_knn_label_3.score(valid_df_X_standardized, valid_df_label_3)))"
   ]
  },
  {
   "cell_type": "markdown",
   "metadata": {},
   "source": [
    "#### SVM"
   ]
  },
  {
   "cell_type": "code",
   "execution_count": null,
   "metadata": {},
   "outputs": [],
   "source": [
    "model_svm_label_3 = SVC();\n",
    "model_svm_label_3.fit(train_df_X_standardized, train_df_label_3)"
   ]
  },
  {
   "cell_type": "code",
   "execution_count": null,
   "metadata": {},
   "outputs": [],
   "source": [
    "joblib.dump(model_svm_label_3, \"./models/model_svm_label_3_baseline.joblib\")"
   ]
  },
  {
   "cell_type": "code",
   "execution_count": 27,
   "metadata": {},
   "outputs": [],
   "source": [
    "model_svm_label_3 = joblib.load(\"./models/model_svm_label_3_baseline.joblib\")"
   ]
  },
  {
   "cell_type": "code",
   "execution_count": 67,
   "metadata": {},
   "outputs": [
    {
     "name": "stdout",
     "output_type": "stream",
     "text": [
      "Training set score: 0.9958274894810659\n",
      "Validation set score: 1.0\n"
     ]
    }
   ],
   "source": [
    "print(\"Training set score: \" + str(model_svm_label_3.score(train_df_X_standardized, train_df_label_3)))\n",
    "print(\"Validation set score: \" + str(model_svm_label_3.score(valid_df_X_standardized, valid_df_label_3)))"
   ]
  },
  {
   "cell_type": "markdown",
   "metadata": {},
   "source": [
    "#### Random Forest"
   ]
  },
  {
   "cell_type": "code",
   "execution_count": null,
   "metadata": {},
   "outputs": [],
   "source": [
    "model_rf_label_3 = RandomForestClassifier();\n",
    "model_rf_label_3.fit(train_df_X_standardized, train_df_label_3)"
   ]
  },
  {
   "cell_type": "code",
   "execution_count": null,
   "metadata": {},
   "outputs": [],
   "source": [
    "joblib.dump(model_rf_label_3, \"./models/model_rf_label_3_baseline.joblib\")"
   ]
  },
  {
   "cell_type": "code",
   "execution_count": null,
   "metadata": {},
   "outputs": [],
   "source": [
    "model_rf_label_3 = joblib.load(\"./models/model_rf_label_3_baseline.joblib\")"
   ]
  },
  {
   "cell_type": "code",
   "execution_count": 71,
   "metadata": {},
   "outputs": [
    {
     "name": "stdout",
     "output_type": "stream",
     "text": [
      "Training set score: 1.0\n",
      "Validation set score: 0.9653333333333334\n"
     ]
    }
   ],
   "source": [
    "print(\"Training set score: \" + str(model_rf_label_3.score(train_df_X_standardized, train_df_label_3)))\n",
    "print(\"Validation set score: \" + str(model_rf_label_3.score(valid_df_X_standardized, valid_df_label_3)))"
   ]
  },
  {
   "cell_type": "markdown",
   "metadata": {},
   "source": [
    "### `label_4` (Speaker Accent)"
   ]
  },
  {
   "cell_type": "code",
   "execution_count": 10,
   "metadata": {},
   "outputs": [],
   "source": [
    "train_df_label_4 = train_df[\"label_4\"]\n",
    "valid_df_label_4 = valid_df[\"label_4\"]"
   ]
  },
  {
   "cell_type": "markdown",
   "metadata": {},
   "source": [
    "#### KNN"
   ]
  },
  {
   "cell_type": "code",
   "execution_count": null,
   "metadata": {},
   "outputs": [],
   "source": [
    "model_knn_label_4 = KNeighborsClassifier();\n",
    "model_knn_label_4.fit(train_df_X_standardized, train_df_label_4)"
   ]
  },
  {
   "cell_type": "code",
   "execution_count": null,
   "metadata": {},
   "outputs": [],
   "source": [
    "joblib.dump(model_knn_label_4, \"./models/model_knn_label_4_baseline.joblib\")"
   ]
  },
  {
   "cell_type": "code",
   "execution_count": 20,
   "metadata": {},
   "outputs": [],
   "source": [
    "model_knn_label_4 = joblib.load(\"./models/model_knn_label_4_baseline.joblib\")"
   ]
  },
  {
   "cell_type": "code",
   "execution_count": 21,
   "metadata": {},
   "outputs": [
    {
     "name": "stdout",
     "output_type": "stream",
     "text": [
      "Training set score: 0.9531206171107994\n",
      "Validation set score: 0.92\n"
     ]
    }
   ],
   "source": [
    "print(\"Training set score: \" + str(model_knn_label_4.score(train_df_X_standardized, train_df_label_4)))\n",
    "print(\"Validation set score: \" + str(model_knn_label_4.score(valid_df_X_standardized, valid_df_label_4)))"
   ]
  },
  {
   "cell_type": "markdown",
   "metadata": {},
   "source": [
    "#### SVM"
   ]
  },
  {
   "cell_type": "code",
   "execution_count": null,
   "metadata": {},
   "outputs": [],
   "source": [
    "model_svm_label_4 = SVC();\n",
    "model_svm_label_4.fit(train_df_X_standardized, train_df_label_4)"
   ]
  },
  {
   "cell_type": "code",
   "execution_count": null,
   "metadata": {},
   "outputs": [],
   "source": [
    "joblib.dump(model_svm_label_4, \"./models/model_svm_label_4_baseline.joblib\")"
   ]
  },
  {
   "cell_type": "code",
   "execution_count": 24,
   "metadata": {},
   "outputs": [],
   "source": [
    "model_svm_label_4 = joblib.load(\"./models/model_svm_label_4_baseline.joblib\")"
   ]
  },
  {
   "cell_type": "code",
   "execution_count": 25,
   "metadata": {},
   "outputs": [
    {
     "name": "stdout",
     "output_type": "stream",
     "text": [
      "Training set score: 0.9713884992987377\n",
      "Validation set score: 0.9386666666666666\n"
     ]
    }
   ],
   "source": [
    "print(\"Training set score: \" + str(model_svm_label_4.score(train_df_X_standardized, train_df_label_4)))\n",
    "print(\"Validation set score: \" + str(model_svm_label_4.score(valid_df_X_standardized, valid_df_label_4)))"
   ]
  },
  {
   "cell_type": "markdown",
   "metadata": {},
   "source": [
    "#### Random Forest"
   ]
  },
  {
   "cell_type": "code",
   "execution_count": null,
   "metadata": {},
   "outputs": [],
   "source": [
    "model_rf_label_4 = RandomForestClassifier();\n",
    "model_rf_label_4.fit(train_df_X_standardized, train_df_label_4)"
   ]
  },
  {
   "cell_type": "code",
   "execution_count": null,
   "metadata": {},
   "outputs": [],
   "source": [
    "joblib.dump(model_rf_label_4, \"./models/model_rf_label_4_baseline.joblib\")"
   ]
  },
  {
   "cell_type": "code",
   "execution_count": 12,
   "metadata": {},
   "outputs": [],
   "source": [
    "model_rf_label_4 = joblib.load(\"./models/model_rf_label_4_baseline.joblib\")"
   ]
  },
  {
   "cell_type": "code",
   "execution_count": 13,
   "metadata": {},
   "outputs": [
    {
     "name": "stdout",
     "output_type": "stream",
     "text": [
      "Training set score: 1.0\n",
      "Validation set score: 0.768\n"
     ]
    }
   ],
   "source": [
    "print(\"Training set score: \" + str(model_rf_label_4.score(train_df_X_standardized, train_df_label_4)))\n",
    "print(\"Validation set score: \" + str(model_rf_label_4.score(valid_df_X_standardized, valid_df_label_4)))"
   ]
  },
  {
   "cell_type": "markdown",
   "metadata": {},
   "source": [
    "## PCA"
   ]
  },
  {
   "cell_type": "markdown",
   "metadata": {},
   "source": [
    "In this section, Pincipal Component Analysis is used to reduce the dimensions of the features. A value of 0.95 is used for the explained variance parameter. The reduced feature set has 311 features."
   ]
  },
  {
   "cell_type": "code",
   "execution_count": 11,
   "metadata": {},
   "outputs": [
    {
     "name": "stdout",
     "output_type": "stream",
     "text": [
      "(28520, 311)\n",
      "(750, 311)\n",
      "(28040, 311)\n",
      "(736, 311)\n"
     ]
    }
   ],
   "source": [
    "pca_1 = PCA(n_components=0.95, svd_solver=\"full\")\n",
    "pca_2 = PCA(n_components=0.95, svd_solver=\"full\")\n",
    "train_df_X_pca = pca_1.fit_transform(train_df_X_standardized)\n",
    "valid_df_X_pca = pca_1.transform(valid_df_X_standardized)\n",
    "\n",
    "train_df_X_missing_removed_pca = pca_2.fit_transform(train_df_X_missing_removed_standardized)\n",
    "valid_df_X_missing_removed_pca = pca_2.transform(valid_df_X_missing_removed_standardized)\n",
    "\n",
    "print(train_df_X_pca.shape)\n",
    "print(valid_df_X_pca.shape)\n",
    "print(train_df_X_missing_removed_pca.shape)\n",
    "print(valid_df_X_missing_removed_pca.shape)"
   ]
  },
  {
   "cell_type": "markdown",
   "metadata": {},
   "source": [
    "## Under-sampling and Over-sampling for `label_4`"
   ]
  },
  {
   "cell_type": "markdown",
   "metadata": {},
   "source": [
    "In this section, a new dataset is obtained for `label_4` by undersampling the original data set to fix the imbalanced data set for `label_4`. But when later tested, undersampling resulted a very low accuracy. Therefore this approach is dropped. I did not try the oversampling because it results a large number of rows for the training dataset causing a longer training time."
   ]
  },
  {
   "cell_type": "code",
   "execution_count": 36,
   "metadata": {},
   "outputs": [],
   "source": [
    "undersampler = RandomUnderSampler(sampling_strategy=\"majority\")\n",
    "oversampler = RandomOverSampler(sampling_strategy=\"not majority\")\n",
    "\n",
    "train_df_X_under, train_df_y_under = undersampler.fit_resample(train_df_X_pca, train_df_label_4)"
   ]
  },
  {
   "cell_type": "markdown",
   "metadata": {},
   "source": [
    "Below is the undersampled dataset for `label_4`."
   ]
  },
  {
   "cell_type": "code",
   "execution_count": 34,
   "metadata": {},
   "outputs": [
    {
     "data": {
      "image/png": "[encoded data removed]",
      "text/plain": [
       "<Figure size 800x600 with 1 Axes>"
      ]
     },
     "metadata": {},
     "output_type": "display_data"
    }
   ],
   "source": [
    "counts = pd.DataFrame(train_df_y_under).value_counts().sort_index()\n",
    "\n",
    "plt.figure(figsize=(8, 6))\n",
    "counts.plot(kind='bar')\n",
    "plt.show()"
   ]
  },
  {
   "cell_type": "markdown",
   "metadata": {},
   "source": [
    "## Stacking"
   ]
  },
  {
   "cell_type": "markdown",
   "metadata": {},
   "source": [
    "In this section, *Stacking* ensemble method is tried. KNN and SVM models were stacked and tested for accuracy. But no improvement was observed compared to the individual SVM model in SVM section."
   ]
  },
  {
   "cell_type": "code",
   "execution_count": 12,
   "metadata": {},
   "outputs": [],
   "source": [
    "from sklearn.ensemble import StackingClassifier\n",
    "from sklearn.tree import DecisionTreeClassifier\n"
   ]
  },
  {
   "cell_type": "code",
   "execution_count": 13,
   "metadata": {},
   "outputs": [],
   "source": [
    "# define the base models\n",
    "level0 = list()\n",
    "level0.append((\"knn\", KNeighborsClassifier()))\n",
    "level0.append((\"svm\", SVC()))\n",
    "level0.append((\"rf\", RandomForestClassifier()))"
   ]
  },
  {
   "cell_type": "code",
   "execution_count": 59,
   "metadata": {},
   "outputs": [],
   "source": [
    "# stacking ensemble\n",
    "stacked_model_label_1 = StackingClassifier(estimators=level0, final_estimator=DecisionTreeClassifier(random_state=42), cv=5, stack_method=\"predict\", n_jobs=4, verbose=3)\n",
    "parameters = {\n",
    "    \"knn__n_neighbors\": [3, 4 , 5],\n",
    "    \"rf__n_estimators\": [100, 150, 200]\n",
    "}\n"
   ]
  },
  {
   "cell_type": "code",
   "execution_count": null,
   "metadata": {},
   "outputs": [],
   "source": [
    "\n",
    "grid_1 = GridSearchCV(stacked_model_label_1, parameters, cv=3, verbose=3).fit(train_df_X_pca, train_df_label_1)"
   ]
  },
  {
   "cell_type": "code",
   "execution_count": null,
   "metadata": {},
   "outputs": [],
   "source": [
    "stacked_model_label_1.fit(train_df_X_pca, train_df_label_1)"
   ]
  },
  {
   "cell_type": "code",
   "execution_count": null,
   "metadata": {},
   "outputs": [],
   "source": [
    "joblib.dump(stacked_model_label_1, \"./models/stacked_model_label_1_knn_svm_dt.joblib\")"
   ]
  },
  {
   "cell_type": "code",
   "execution_count": null,
   "metadata": {},
   "outputs": [],
   "source": [
    "stacked_model_label_1 = joblib.load(\"./models/stacked_model_label_1.joblib\")"
   ]
  },
  {
   "cell_type": "code",
   "execution_count": 56,
   "metadata": {},
   "outputs": [
    {
     "name": "stdout",
     "output_type": "stream",
     "text": [
      "Train Accuracy:  0.9646914446002806\n",
      "Valid Accuracy:  0.9213333333333333\n"
     ]
    }
   ],
   "source": [
    "print(\"Train Accuracy: \", grid_1.score(train_df_X_pca, train_df_label_1))\n",
    "print(\"Valid Accuracy: \", grid_1.score(valid_df_X_pca, valid_df_label_1))"
   ]
  },
  {
   "cell_type": "markdown",
   "metadata": {},
   "source": [
    "## XGBoost"
   ]
  },
  {
   "cell_type": "markdown",
   "metadata": {},
   "source": [
    "In this section, XGBoost classifier was tested for accuracy."
   ]
  },
  {
   "cell_type": "code",
   "execution_count": 16,
   "metadata": {},
   "outputs": [],
   "source": [
    "from xgboost import XGBClassifier\n",
    "from sklearn.preprocessing import LabelEncoder"
   ]
  },
  {
   "cell_type": "code",
   "execution_count": null,
   "metadata": {},
   "outputs": [],
   "source": [
    "le = LabelEncoder()\n",
    "le.fit(train_df_label_1)\n",
    "train_df_label_1_encoded = le.transform(train_df_label_1)\n",
    "model_xgb_label_1 = XGBClassifier()\n",
    "model_xgb_label_1.fit(train_df_X_pca, train_df_label_1_encoded)"
   ]
  },
  {
   "cell_type": "code",
   "execution_count": 20,
   "metadata": {},
   "outputs": [
    {
     "name": "stdout",
     "output_type": "stream",
     "text": [
      "Train Accuracy:  1.0\n",
      "Valid Accuracy:  0.8186666666666667\n"
     ]
    }
   ],
   "source": [
    "print(\"Train Accuracy: \", model_xgb_label_1.score(train_df_X_pca, train_df_label_1_encoded))\n",
    "valid_df_label_1_encoded = le.transform(valid_df_label_1)\n",
    "print(\"Valid Accuracy: \", model_xgb_label_1.score(valid_df_X_pca, valid_df_label_1_encoded))"
   ]
  },
  {
   "cell_type": "markdown",
   "metadata": {},
   "source": [
    "## HistGradientBoosting"
   ]
  },
  {
   "cell_type": "markdown",
   "metadata": {},
   "source": [
    "In this section, `HistGradientBoosting` classifier is tested for accuracy."
   ]
  },
  {
   "cell_type": "code",
   "execution_count": 23,
   "metadata": {},
   "outputs": [],
   "source": [
    "from sklearn.ensemble import HistGradientBoostingClassifier"
   ]
  },
  {
   "cell_type": "code",
   "execution_count": 26,
   "metadata": {},
   "outputs": [],
   "source": [
    "model_gbc_label_1 = HistGradientBoostingClassifier()"
   ]
  },
  {
   "cell_type": "code",
   "execution_count": 27,
   "metadata": {},
   "outputs": [
    {
     "data": {
      "text/html": [
       "<style>#sk-container-id-2 {color: black;background-color: white;}#sk-container-id-2 pre{padding: 0;}#sk-container-id-2 div.sk-toggleable {background-color: white;}#sk-container-id-2 label.sk-toggleable__label {cursor: pointer;display: block;width: 100%;margin-bottom: 0;padding: 0.3em;box-sizing: border-box;text-align: center;}#sk-container-id-2 label.sk-toggleable__label-arrow:before {content: \"▸\";float: left;margin-right: 0.25em;color: #696969;}#sk-container-id-2 label.sk-toggleable__label-arrow:hover:before {color: black;}#sk-container-id-2 div.sk-estimator:hover label.sk-toggleable__label-arrow:before {color: black;}#sk-container-id-2 div.sk-toggleable__content {max-height: 0;max-width: 0;overflow: hidden;text-align: left;background-color: #f0f8ff;}#sk-container-id-2 div.sk-toggleable__content pre {margin: 0.2em;color: black;border-radius: 0.25em;background-color: #f0f8ff;}#sk-container-id-2 input.sk-toggleable__control:checked~div.sk-toggleable__content {max-height: 200px;max-width: 100%;overflow: auto;}#sk-container-id-2 input.sk-toggleable__control:checked~label.sk-toggleable__label-arrow:before {content: \"▾\";}#sk-container-id-2 div.sk-estimator input.sk-toggleable__control:checked~label.sk-toggleable__label {background-color: #d4ebff;}#sk-container-id-2 div.sk-label input.sk-toggleable__control:checked~label.sk-toggleable__label {background-color: #d4ebff;}#sk-container-id-2 input.sk-hidden--visually {border: 0;clip: rect(1px 1px 1px 1px);clip: rect(1px, 1px, 1px, 1px);height: 1px;margin: -1px;overflow: hidden;padding: 0;position: absolute;width: 1px;}#sk-container-id-2 div.sk-estimator {font-family: monospace;background-color: #f0f8ff;border: 1px dotted black;border-radius: 0.25em;box-sizing: border-box;margin-bottom: 0.5em;}#sk-container-id-2 div.sk-estimator:hover {background-color: #d4ebff;}#sk-container-id-2 div.sk-parallel-item::after {content: \"\";width: 100%;border-bottom: 1px solid gray;flex-grow: 1;}#sk-container-id-2 div.sk-label:hover label.sk-toggleable__label {background-color: #d4ebff;}#sk-container-id-2 div.sk-serial::before {content: \"\";position: absolute;border-left: 1px solid gray;box-sizing: border-box;top: 0;bottom: 0;left: 50%;z-index: 0;}#sk-container-id-2 div.sk-serial {display: flex;flex-direction: column;align-items: center;background-color: white;padding-right: 0.2em;padding-left: 0.2em;position: relative;}#sk-container-id-2 div.sk-item {position: relative;z-index: 1;}#sk-container-id-2 div.sk-parallel {display: flex;align-items: stretch;justify-content: center;background-color: white;position: relative;}#sk-container-id-2 div.sk-item::before, #sk-container-id-2 div.sk-parallel-item::before {content: \"\";position: absolute;border-left: 1px solid gray;box-sizing: border-box;top: 0;bottom: 0;left: 50%;z-index: -1;}#sk-container-id-2 div.sk-parallel-item {display: flex;flex-direction: column;z-index: 1;position: relative;background-color: white;}#sk-container-id-2 div.sk-parallel-item:first-child::after {align-self: flex-end;width: 50%;}#sk-container-id-2 div.sk-parallel-item:last-child::after {align-self: flex-start;width: 50%;}#sk-container-id-2 div.sk-parallel-item:only-child::after {width: 0;}#sk-container-id-2 div.sk-dashed-wrapped {border: 1px dashed gray;margin: 0 0.4em 0.5em 0.4em;box-sizing: border-box;padding-bottom: 0.4em;background-color: white;}#sk-container-id-2 div.sk-label label {font-family: monospace;font-weight: bold;display: inline-block;line-height: 1.2em;}#sk-container-id-2 div.sk-label-container {text-align: center;}#sk-container-id-2 div.sk-container {/* jupyter's `normalize.less` sets `[hidden] { display: none; }` but bootstrap.min.css set `[hidden] { display: none !important; }` so we also need the `!important` here to be able to override the default hidden behavior on the sphinx rendered scikit-learn.org. See: https://github.com/scikit-learn/scikit-learn/issues/21755 */display: inline-block !important;position: relative;}#sk-container-id-2 div.sk-text-repr-fallback {display: none;}</style><div id=\"sk-container-id-2\" class=\"sk-top-container\"><div class=\"sk-text-repr-fallback\"><pre>HistGradientBoostingClassifier()</pre><b>In a Jupyter environment, please rerun this cell to show the HTML representation or trust the notebook. <br />On GitHub, the HTML representation is unable to render, please try loading this page with nbviewer.org.</b></div><div class=\"sk-container\" hidden><div class=\"sk-item\"><div class=\"sk-estimator sk-toggleable\"><input class=\"sk-toggleable__control sk-hidden--visually\" id=\"sk-estimator-id-2\" type=\"checkbox\" checked><label for=\"sk-estimator-id-2\" class=\"sk-toggleable__label sk-toggleable__label-arrow\">HistGradientBoostingClassifier</label><div class=\"sk-toggleable__content\"><pre>HistGradientBoostingClassifier()</pre></div></div></div></div></div>"
      ],
      "text/plain": [
       "HistGradientBoostingClassifier()"
      ]
     },
     "execution_count": 27,
     "metadata": {},
     "output_type": "execute_result"
    }
   ],
   "source": [
    "model_gbc_label_1.fit(train_df_X_pca, train_df_label_1)"
   ]
  },
  {
   "cell_type": "code",
   "execution_count": 28,
   "metadata": {},
   "outputs": [
    {
     "name": "stdout",
     "output_type": "stream",
     "text": [
      "Train Accuracy:  0.9833450210378681\n",
      "Valid Accuracy:  0.8253333333333334\n"
     ]
    }
   ],
   "source": [
    "print(\"Train Accuracy: \", model_gbc_label_1.score(train_df_X_pca, train_df_label_1))\n",
    "print(\"Valid Accuracy: \", model_gbc_label_1.score(valid_df_X_pca, valid_df_label_1))"
   ]
  },
  {
   "cell_type": "markdown",
   "metadata": {},
   "source": [
    "## SVM"
   ]
  },
  {
   "cell_type": "markdown",
   "metadata": {},
   "source": [
    "In this section, SVM model with Grid Search and Cross Validation is used and tested for accuracy. SVM model gave the best accuracy from all the above tried models. Therefore this model is used for the final predictions for the test data."
   ]
  },
  {
   "cell_type": "markdown",
   "metadata": {},
   "source": [
    "### `label_1`"
   ]
  },
  {
   "cell_type": "code",
   "execution_count": null,
   "metadata": {},
   "outputs": [],
   "source": [
    "model_svm_label_1_pca = SVC()\n",
    "\n",
    "parameters = { \"C\": [1, 25, 50, 75, 100]}\n",
    "grid_svm_label_1_pca = GridSearchCV(model_svm_label_1_pca, parameters, cv=5, n_jobs=4, verbose=4)\n",
    "grid_svm_label_1_pca.fit(train_df_X_pca, train_df_label_1)"
   ]
  },
  {
   "cell_type": "code",
   "execution_count": null,
   "metadata": {},
   "outputs": [],
   "source": [
    "print(grid_svm_label_1_pca.best_params_)"
   ]
  },
  {
   "cell_type": "code",
   "execution_count": 12,
   "metadata": {},
   "outputs": [],
   "source": [
    "# joblib.dump(grid_svm_label_1_pca, \"./models/grid_svm_label_1_pca_2.pkl\")\n",
    "# joblib.dump(grid_svm_label_1_pca.best_estimator_, \"./models/model_svm_label_1_pca_2.joblib\")\n",
    "model_svm_label_1_pca = joblib.load(\"./models/model_svm_label_1_pca.joblib\")"
   ]
  },
  {
   "cell_type": "code",
   "execution_count": 14,
   "metadata": {},
   "outputs": [
    {
     "name": "stdout",
     "output_type": "stream",
     "text": [
      "Train Accuracy:  0.9982468443197756\n",
      "Valid Accuracy:  0.96\n"
     ]
    }
   ],
   "source": [
    "print(\"Train Accuracy: \", model_svm_label_1_pca.score(train_df_X_pca, train_df_label_1))\n",
    "print(\"Valid Accuracy: \", model_svm_label_1_pca.score(valid_df_X_pca, valid_df_label_1))"
   ]
  },
  {
   "cell_type": "markdown",
   "metadata": {},
   "source": [
    "### `label_2`"
   ]
  },
  {
   "cell_type": "code",
   "execution_count": null,
   "metadata": {},
   "outputs": [],
   "source": [
    "model_svm_label_2_pca = SVC()\n",
    "\n",
    "parameters = { \"C\": [1, 25, 50, 75, 100]}\n",
    "grid_svm_label_2_pca = GridSearchCV(model_svm_label_2_pca, parameters, cv=5, n_jobs=4, verbose=4)\n",
    "grid_svm_label_2_pca.fit(train_df_X_missing_removed_pca, train_df_label_2)"
   ]
  },
  {
   "cell_type": "code",
   "execution_count": 76,
   "metadata": {},
   "outputs": [
    {
     "name": "stdout",
     "output_type": "stream",
     "text": [
      "{'C': 25}\n"
     ]
    }
   ],
   "source": [
    "print(grid_svm_label_2_pca.best_params_)"
   ]
  },
  {
   "cell_type": "code",
   "execution_count": 15,
   "metadata": {},
   "outputs": [],
   "source": [
    "# joblib.dump(grid_svm_label_2_pca, \"./models/grid_svm_label_2_pca_2.pkl\")\n",
    "# joblib.dump(grid_svm_label_2_pca.best_estimator_, \"./models/model_svm_label_2_pca_2.joblib\")\n",
    "model_svm_label_2_pca = joblib.load(\"./models/model_svm_label_2_pca.joblib\")"
   ]
  },
  {
   "cell_type": "code",
   "execution_count": 16,
   "metadata": {},
   "outputs": [
    {
     "name": "stdout",
     "output_type": "stream",
     "text": [
      "Train Accuracy:  0.993830242510699\n",
      "Valid Accuracy:  0.9347826086956522\n"
     ]
    }
   ],
   "source": [
    "print(\"Train Accuracy: \", model_svm_label_2_pca.score(train_df_X_missing_removed_pca, train_df_label_2))\n",
    "print(\"Valid Accuracy: \", model_svm_label_2_pca.score(valid_df_X_missing_removed_pca, valid_df_label_2))"
   ]
  },
  {
   "cell_type": "markdown",
   "metadata": {},
   "source": [
    "### `label_3`"
   ]
  },
  {
   "cell_type": "code",
   "execution_count": null,
   "metadata": {},
   "outputs": [],
   "source": [
    "model_svm_label_3_pca = SVC()\n",
    "\n",
    "parameters = { \"C\": [1, 25, 50, 75, 100]}\n",
    "grid_svm_label_3_pca = GridSearchCV(model_svm_label_3_pca, parameters, cv=5, n_jobs=4, verbose=4)\n",
    "grid_svm_label_3_pca.fit(train_df_X_pca, train_df_label_3)"
   ]
  },
  {
   "cell_type": "code",
   "execution_count": 80,
   "metadata": {},
   "outputs": [
    {
     "name": "stdout",
     "output_type": "stream",
     "text": [
      "{'C': 25}\n"
     ]
    }
   ],
   "source": [
    "print(grid_svm_label_3_pca.best_params_)"
   ]
  },
  {
   "cell_type": "code",
   "execution_count": 101,
   "metadata": {},
   "outputs": [],
   "source": [
    "# joblib.dump(grid_svm_label_3_pca, \"./models/grid_svm_label_3_pca_2.pkl\")\n",
    "# joblib.dump(grid_svm_label_3_pca.best_estimator_, \"./models/model_svm_label_3_pca_2.joblib\")\n",
    "model_svm_label_3_pca = joblib.load(\"./models/model_svm_label_3_pca.joblib\")"
   ]
  },
  {
   "cell_type": "code",
   "execution_count": 82,
   "metadata": {},
   "outputs": [
    {
     "name": "stdout",
     "output_type": "stream",
     "text": [
      "Train Accuracy:  0.9990532959326788\n",
      "Valid Accuracy:  0.9973333333333333\n"
     ]
    }
   ],
   "source": [
    "print(\"Train Accuracy: \", grid_svm_label_3_pca.score(train_df_X_pca, train_df_label_3))\n",
    "print(\"Valid Accuracy: \", grid_svm_label_3_pca.score(valid_df_X_pca, valid_df_label_3))"
   ]
  },
  {
   "cell_type": "markdown",
   "metadata": {},
   "source": [
    "### `label_4` with Under-sampling"
   ]
  },
  {
   "cell_type": "code",
   "execution_count": null,
   "metadata": {},
   "outputs": [],
   "source": [
    "model_svm_label_4_pca = SVC()\n",
    "\n",
    "parameters = { \"C\": [1, 25, 50, 75, 100]}\n",
    "grid_svm_label_4_pca = GridSearchCV(model_svm_label_3_pca, parameters, cv=5, n_jobs=4, verbose=4)\n",
    "grid_svm_label_4_pca.fit(train_df_X_under, train_df_y_under)"
   ]
  },
  {
   "cell_type": "code",
   "execution_count": 84,
   "metadata": {},
   "outputs": [
    {
     "name": "stdout",
     "output_type": "stream",
     "text": [
      "{'C': 25}\n"
     ]
    }
   ],
   "source": [
    "print(grid_svm_label_4_pca.best_params_)"
   ]
  },
  {
   "cell_type": "code",
   "execution_count": 85,
   "metadata": {},
   "outputs": [],
   "source": [
    "# joblib.dump(grid_svm_label_4_pca, \"./models/grid_svm_label_4_pca_2.pkl\")\n",
    "# joblib.dump(grid_svm_label_4_pca.best_estimator_, \"./models/model_svm_label_4_pca_2.joblib\")\n",
    "model_svm_label_4_pca = joblib.load(\"./models/model_svm_label_4_pca_2.joblib\")"
   ]
  },
  {
   "cell_type": "code",
   "execution_count": null,
   "metadata": {},
   "outputs": [],
   "source": [
    "print(\"Train Accuracy: \", model_svm_label_4_pca.score(train_df_X_pca, train_df_label_4))\n",
    "print(\"Valid Accuracy: \", model_svm_label_4_pca.score(valid_df_X_pca, valid_df_label_4))"
   ]
  },
  {
   "cell_type": "markdown",
   "metadata": {},
   "source": [
    "### `label_4` without Under-sampling"
   ]
  },
  {
   "cell_type": "code",
   "execution_count": null,
   "metadata": {},
   "outputs": [],
   "source": [
    "model_svm_label_4_pca_no_under_sampling = SVC(class_weight=\"balanced\")\n",
    "\n",
    "parameters = { \"C\": [1, 25, 50, 75, 100]}\n",
    "grid_svm_label_4_pca_no_undersampling = GridSearchCV(model_svm_label_4_pca_no_under_sampling, parameters, cv=5, n_jobs=4, verbose=4)\n",
    "grid_svm_label_4_pca_no_undersampling.fit(train_df_X_pca, train_df_label_4)"
   ]
  },
  {
   "cell_type": "code",
   "execution_count": 88,
   "metadata": {},
   "outputs": [
    {
     "name": "stdout",
     "output_type": "stream",
     "text": [
      "{'C': 25}\n"
     ]
    }
   ],
   "source": [
    "print(grid_svm_label_4_pca.best_params_)"
   ]
  },
  {
   "cell_type": "code",
   "execution_count": 102,
   "metadata": {},
   "outputs": [],
   "source": [
    "# joblib.dump(grid_svm_label_4_pca_no_undersampling, \"./models/grid_svm_label_4_pca_no_undersampling_2.pkl\")\n",
    "# joblib.dump(grid_svm_label_4_pca_no_undersampling.best_estimator_, \"./models/model_svm_label_4_pca_no_under_sampling_2.joblib\")\n",
    "model_svm_label_4_pca_no_under_sampling = joblib.load(\"./models/model_svm_label_4_pca_no_under_sampling.joblib\")"
   ]
  },
  {
   "cell_type": "code",
   "execution_count": 90,
   "metadata": {},
   "outputs": [
    {
     "name": "stdout",
     "output_type": "stream",
     "text": [
      "Train Accuracy:  0.9931626928471248\n",
      "Valid Accuracy:  0.9493333333333334\n"
     ]
    }
   ],
   "source": [
    "print(\"Train Accuracy: \", model_svm_label_4_pca_no_under_sampling.score(train_df_X_pca, train_df_label_4))\n",
    "print(\"Valid Accuracy: \", model_svm_label_4_pca_no_under_sampling.score(valid_df_X_pca, valid_df_label_4))"
   ]
  },
  {
   "cell_type": "markdown",
   "metadata": {},
   "source": [
    "## Output File Generation"
   ]
  },
  {
   "cell_type": "code",
   "execution_count": null,
   "metadata": {},
   "outputs": [],
   "source": [
    "test_df_X = test_df.iloc[:, 1:]\n",
    "test_df_X = scaler.transform(test_df_X)\n",
    "test_df_X_for_label_2 = scaler2.transform(test_df_X)\n",
    "\n",
    "test_df_X_pca = pca_1.transform(test_df_X)\n",
    "test_df_X_pca_for_label_2 = pca_2.transform(test_df_X_for_label_2)\n",
    "\n",
    "predictions = list()\n",
    "predictions.append(model_svm_label_1_pca.predict(test_df_X_pca))\n",
    "predictions.append(model_svm_label_2_pca.predict(test_df_X_pca_for_label_2))\n",
    "predictions.append(model_svm_label_3_pca.predict(test_df_X_pca))\n",
    "predictions.append(model_svm_label_4_pca_no_under_sampling.predict(test_df_X_pca))"
   ]
  },
  {
   "cell_type": "code",
   "execution_count": 104,
   "metadata": {},
   "outputs": [],
   "source": [
    "def create_output_dataframe(predictions):\n",
    "    output_df = pd.DataFrame()\n",
    "    output_df[\"ID\"] = np.arange(1, len(predictions[0]) + 1)\n",
    "    for i in range(len(predictions)):\n",
    "        if (i == 1):\n",
    "            output_df[\"label_\" + str(i+1)] = predictions[i].astype(int)\n",
    "        else:\n",
    "            output_df[\"label_\" + str(i+1)] = predictions[i]\n",
    "    return output_df\n",
    "\n",
    "output_df = create_output_dataframe(predictions)"
   ]
  },
  {
   "cell_type": "code",
   "execution_count": 105,
   "metadata": {},
   "outputs": [],
   "source": [
    "output_df.head()\n",
    "output_df.to_csv(\"./output/predictions.csv\", index=False)"
   ]
  }
 ],
 "metadata": {
  "kernelspec": {
   "display_name": "ml",
   "language": "python",
   "name": "python3"
  },
  "language_info": {
   "codemirror_mode": {
    "name": "ipython",
    "version": 3
   },
   "file_extension": ".py",
   "mimetype": "text/x-python",
   "name": "python",
   "nbconvert_exporter": "python",
   "pygments_lexer": "ipython3",
   "version": "3.10.13"
  },
  "orig_nbformat": 4
 },
 "nbformat": 4,
 "nbformat_minor": 2
}
